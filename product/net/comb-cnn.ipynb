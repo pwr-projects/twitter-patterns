{
 "cells": [
  {
   "cell_type": "code",
   "execution_count": null,
   "metadata": {},
   "outputs": [],
   "source": [
    "import pickle\n",
    "\n",
    "import pandas as pd\n",
    "\n",
    "import sklearn.model_selection as sk_ms\n",
    "import sklearn.metrics as sk_mt\n",
    "import sklearn.preprocessing as sk_p\n",
    "import sklearn.utils as sk_ut\n",
    "import numpy as np\n",
    "import keras.models as k_mod\n",
    "import keras.layers as k_lay\n",
    "import keras.optimizers as k_opt\n",
    "import keras.utils as k_ut\n",
    "\n",
    "import utils"
   ]
  },
  {
   "cell_type": "code",
   "execution_count": null,
   "metadata": {},
   "outputs": [],
   "source": [
    "with open('cnn_input_ds.pkl', 'rb') as f:\n",
    "    tweets_ds = pickle.load(f)"
   ]
  },
  {
   "cell_type": "code",
   "execution_count": null,
   "metadata": {},
   "outputs": [],
   "source": [
    "users_ds = pd.read_csv('../../dataset/final_dataset/twitter_patterns_with_graph.csv')"
   ]
  },
  {
   "cell_type": "code",
   "execution_count": null,
   "metadata": {},
   "outputs": [],
   "source": [
    "user_2_tweets = {}\n",
    "user_2_stats = {}\n",
    "user_2_group = {}\n",
    "\n",
    "for entry in users_ds.values:\n",
    "    user_2_stats[entry[1]] = entry[2:]\n",
    "    user_2_group[entry[1]] = entry[0]\n",
    "    \n",
    "for entry in zip(tweets_ds['username'], tweets_ds['tweets']):\n",
    "    user_2_tweets[entry[0]] = entry[1]"
   ]
  },
  {
   "cell_type": "code",
   "execution_count": null,
   "metadata": {},
   "outputs": [],
   "source": [
    "lb = sk_p.LabelBinarizer()\n",
    "lb.fit(list(set(user_2_group.values())))"
   ]
  },
  {
   "cell_type": "code",
   "execution_count": null,
   "metadata": {},
   "outputs": [],
   "source": [
    "cnn_x = []\n",
    "add_x = []\n",
    "groups = []\n",
    "\n",
    "for u in user_2_group.keys():\n",
    "    cnn_x.append(user_2_tweets[u])\n",
    "    add_x.append(user_2_stats[u])\n",
    "    groups.append(user_2_group[u])"
   ]
  },
  {
   "cell_type": "code",
   "execution_count": null,
   "metadata": {},
   "outputs": [],
   "source": [
    "cnn_x = np.array(cnn_x).astype('float64')\n",
    "add_x = np.array(add_x).astype('float64')"
   ]
  },
  {
   "cell_type": "code",
   "execution_count": null,
   "metadata": {},
   "outputs": [],
   "source": [
    "cnn_input_shape = cnn_x[0].shape\n",
    "add_input_shape = add_x[0].shape\n",
    "groups_num = len(set(user_2_group.values()))\n",
    "test_split = 0.1"
   ]
  },
  {
   "cell_type": "code",
   "execution_count": null,
   "metadata": {},
   "outputs": [],
   "source": [
    "cnn_x, add_x, groups = sk_ut.shuffle(cnn_x, add_x, groups)\n",
    "groups = np.array(groups)\n",
    "groups = lb.transform(groups)"
   ]
  },
  {
   "cell_type": "code",
   "execution_count": null,
   "metadata": {},
   "outputs": [],
   "source": [
    "cnn_x_train, cnn_x_test, add_x_train, add_x_test, y_train, y_test = sk_ms.train_test_split(\n",
    "    cnn_x, add_x, groups, test_size=test_split, shuffle=True)"
   ]
  },
  {
   "cell_type": "code",
   "execution_count": null,
   "metadata": {},
   "outputs": [],
   "source": [
    "cnn_input = k_lay.Input(shape=cnn_input_shape, name='cnn_input')\n",
    "net_x = k_lay.Conv1D(32, kernel_size=3, activation='sigmoid')(cnn_input)\n",
    "net_x = k_lay.Conv1D(32, kernel_size=3, activation='sigmoid')(net_x)\n",
    "net_x = k_lay.Flatten()(net_x)\n",
    "\n",
    "additional_input = k_lay.Input(shape=add_input_shape, name='additional_input')\n",
    "net_common = k_lay.merge.Concatenate()([net_x, additional_input])\n",
    "net_common = k_lay.Dense(64, activation='sigmoid')(net_common)\n",
    "net_common - k_lay.Dropout(0.5)(net_common)\n",
    "final_output = k_lay.Dense(groups_num, activation='softmax', name='final_output')(net_common)\n",
    "\n",
    "model = k_mod.Model(inputs=[cnn_input, additional_input], outputs=[final_output])\n",
    "model.compile(optimizer=k_opt.Adam(0.001), loss='categorical_crossentropy', metrics=['accuracy'])\n",
    "\n",
    "model.summary()"
   ]
  },
  {
   "cell_type": "code",
   "execution_count": null,
   "metadata": {},
   "outputs": [],
   "source": [
    "model.fit([cnn_x_train, add_x_train], y_train, epochs=500, batch_size=128, validation_split=test_split)"
   ]
  },
  {
   "cell_type": "code",
   "execution_count": null,
   "metadata": {},
   "outputs": [],
   "source": [
    "pred = model.predict([cnn_x_test, add_x_test])\n",
    "pred_wrap = [np.argmax(p) for p in pred]\n",
    "y_pred = lb.inverse_transform(k_ut.to_categorical(pred_wrap))\n",
    "y_test_wrap = lb.inverse_transform(y_test)"
   ]
  },
  {
   "cell_type": "code",
   "execution_count": null,
   "metadata": {},
   "outputs": [],
   "source": [
    "print(sk_mt.classification_report(y_test_wrap, y_pred))"
   ]
  },
  {
   "cell_type": "code",
   "execution_count": null,
   "metadata": {},
   "outputs": [],
   "source": [
    "utils.print_scores(*utils.score(y_test_wrap, y_pred))"
   ]
  },
  {
   "cell_type": "code",
   "execution_count": null,
   "metadata": {},
   "outputs": [],
   "source": [
    "utils.plot_confusion_matrix(y_test_wrap, y_pred, sorted(set(y_test_wrap)))"
   ]
  },
  {
   "cell_type": "code",
   "execution_count": null,
   "metadata": {},
   "outputs": [],
   "source": [
    "dump_data = {\n",
    "    'train_cnn_x': cnn_x_train,\n",
    "    'test_cnn_x': cnn_x_test,\n",
    "    'train_add_x': add_x_train,\n",
    "    'test_add_x': add_x_test,\n",
    "    'train_groups': y_train,\n",
    "    'test_groups': y_test\n",
    "}\n",
    "\n",
    "with open('cnn_add_state_dataset.pkl', 'wb') as f:\n",
    "    pickle.dump(dump_data, f)\n",
    "    \n",
    "model.save('cnn_add_state_model.h5')"
   ]
  }
 ],
 "metadata": {
  "kernelspec": {
   "display_name": "Python 3",
   "language": "python",
   "name": "python3"
  },
  "language_info": {
   "codemirror_mode": {
    "name": "ipython",
    "version": 3
   },
   "file_extension": ".py",
   "mimetype": "text/x-python",
   "name": "python",
   "nbconvert_exporter": "python",
   "pygments_lexer": "ipython3",
   "version": "3.6.6"
  }
 },
 "nbformat": 4,
 "nbformat_minor": 2
}
