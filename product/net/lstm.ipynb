{
 "cells": [
  {
   "cell_type": "code",
   "execution_count": 1,
   "metadata": {},
   "outputs": [
    {
     "name": "stderr",
     "output_type": "stream",
     "text": [
      "Using TensorFlow backend.\n"
     ]
    }
   ],
   "source": [
    "import pickle\n",
    "\n",
    "import keras.preprocessing.sequence as k_ps\n",
    "import keras.models as k_mod\n",
    "import keras.layers as k_lay\n",
    "import keras.optimizers as k_opt\n",
    "import keras.utils as k_ut\n",
    "import numpy as np\n",
    "import pandas as pd\n",
    "import sklearn.metrics as sk_mt\n",
    "import sklearn.model_selection as sk_ms\n",
    "import sklearn.preprocessing as sk_pp\n",
    "import sklearn.utils as sk_ut\n",
    "from utils import score, print_scores, plot_confusion_matrix"
   ]
  },
  {
   "cell_type": "code",
   "execution_count": 2,
   "metadata": {},
   "outputs": [],
   "source": [
    "with open('lstm_tweets_net.pkl', 'rb') as f:\n",
    "    data = pickle.load(f)\n",
    "x, y = zip(*data)"
   ]
  },
  {
   "cell_type": "code",
   "execution_count": 3,
   "metadata": {},
   "outputs": [],
   "source": [
    "pad_tag = '#PAD#'\n",
    "max_len = max(len(xw) for xw in x)"
   ]
  },
  {
   "cell_type": "code",
   "execution_count": 4,
   "metadata": {},
   "outputs": [],
   "source": [
    "flat_tmp_x = set([b for a in x for b in a])\n",
    "\n",
    "indexed_tmp_x = {w: i + 1 for i, w in enumerate(flat_tmp_x)}\n",
    "indexed_tmp_x[pad_tag] = 0\n",
    "tagged_x = np.array([[indexed_tmp_x[wx] for wx in sx] for sx in x])\n",
    "\n",
    "lb = sk_pp.LabelBinarizer()\n",
    "lb.fit(y)\n",
    "\n",
    "x_tagged_train, x_tagged_test, y_train, y_test = sk_ms.train_test_split(tagged_x, lb.transform(y), shuffle=True)"
   ]
  },
  {
   "cell_type": "code",
   "execution_count": 5,
   "metadata": {},
   "outputs": [],
   "source": [
    "input_dim = len(x[0])\n",
    "output_dim = len(set(y))"
   ]
  },
  {
   "cell_type": "code",
   "execution_count": 6,
   "metadata": {},
   "outputs": [],
   "source": [
    "def learn_model(size, learning_rate, batch_size, epochs):\n",
    "    model = k_mod.Sequential()\n",
    "    model.add(k_lay.Embedding(len(flat_tmp_x) + 1, 128, input_length=max_len))\n",
    "    model.add(k_lay.LSTM(size))\n",
    "    model.add(k_lay.Dense(output_dim, activation='softmax'))\n",
    "    model.compile(loss='categorical_crossentropy', optimizer=k_opt.Adam(learning_rate), metrics=['accuracy'])\n",
    "    model.fit(x_tagged_train, y_train, batch_size=batch_size, epochs=epochs)\n",
    "    return model"
   ]
  },
  {
   "cell_type": "code",
   "execution_count": 7,
   "metadata": {
    "scrolled": true
   },
   "outputs": [
    {
     "name": "stdout",
     "output_type": "stream",
     "text": [
      "Epoch 1/5\n",
      "14133/14133 [==============================] - 4s 252us/step - loss: 1.3656 - acc: 0.3447\n",
      "Epoch 2/5\n",
      "14133/14133 [==============================] - 1s 90us/step - loss: 1.2132 - acc: 0.4576\n",
      "Epoch 3/5\n",
      "14133/14133 [==============================] - 1s 92us/step - loss: 1.0268 - acc: 0.5772\n",
      "Epoch 4/5\n",
      "14133/14133 [==============================] - 1s 89us/step - loss: 0.8637 - acc: 0.6590\n",
      "Epoch 5/5\n",
      "14133/14133 [==============================] - 2s 112us/step - loss: 0.7153 - acc: 0.7227\n"
     ]
    }
   ],
   "source": [
    "model = learn_model(64, 0.001, 512, 5)\n",
    "pred = model.predict_classes(x_tagged_test)\n",
    "y_pred = lb.inverse_transform(k_ut.to_categorical(pred))\n",
    "y_true = lb.inverse_transform(y_test)"
   ]
  },
  {
   "cell_type": "code",
   "execution_count": 8,
   "metadata": {},
   "outputs": [
    {
     "name": "stdout",
     "output_type": "stream",
     "text": [
      "acc 0.5025466893039049\n",
      "f1 0.49477621967701235\n",
      "prec 0.49916204946186704\n",
      "rec 0.5034572920270901\n"
     ]
    }
   ],
   "source": [
    "print_scores(*score(y_true, y_pred))"
   ]
  },
  {
   "cell_type": "code",
   "execution_count": 9,
   "metadata": {},
   "outputs": [
    {
     "name": "stdout",
     "output_type": "stream",
     "text": [
      "              precision    recall  f1-score   support\n",
      "\n",
      "      actors       0.46      0.29      0.36      1214\n",
      "     athlets       0.44      0.53      0.48      1159\n",
      "    musicans       0.47      0.51      0.49      1137\n",
      "  politicans       0.63      0.68      0.65      1202\n",
      "\n",
      "   micro avg       0.50      0.50      0.50      4712\n",
      "   macro avg       0.50      0.50      0.49      4712\n",
      "weighted avg       0.50      0.50      0.49      4712\n",
      "\n"
     ]
    }
   ],
   "source": [
    "print(sk_mt.classification_report(y_true, y_pred))"
   ]
  },
  {
   "cell_type": "code",
   "execution_count": 10,
   "metadata": {},
   "outputs": [
    {
     "data": {
      "image/png": "[encoded data removed]",
      "text/plain": [
       "<Figure size 432x288 with 2 Axes>"
      ]
     },
     "metadata": {
      "needs_background": "light"
     },
     "output_type": "display_data"
    }
   ],
   "source": [
    "plot_confusion_matrix(y_true, y_pred, sorted(set(y_true)))"
   ]
  },
  {
   "cell_type": "code",
   "execution_count": 11,
   "metadata": {},
   "outputs": [],
   "source": [
    "with open('../lstm.pkl', 'wb') as f:\n",
    "    pickle.dump(model, f)"
   ]
  },
  {
   "cell_type": "code",
   "execution_count": null,
   "metadata": {},
   "outputs": [],
   "source": []
  }
 ],
 "metadata": {
  "kernelspec": {
   "display_name": "Python 3",
   "language": "python",
   "name": "python3"
  },
  "language_info": {
   "codemirror_mode": {
    "name": "ipython",
    "version": 3
   },
   "file_extension": ".py",
   "mimetype": "text/x-python",
   "name": "python",
   "nbconvert_exporter": "python",
   "pygments_lexer": "ipython3",
   "version": "3.6.7"
  }
 },
 "nbformat": 4,
 "nbformat_minor": 2
}
