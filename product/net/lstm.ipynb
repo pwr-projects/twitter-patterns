{
 "cells": [
  {
   "cell_type": "code",
   "execution_count": null,
   "metadata": {},
   "outputs": [],
   "source": [
    "import pickle\n",
    "\n",
    "import keras.preprocessing.sequence as k_ps\n",
    "import keras.models as k_mod\n",
    "import keras.layers as k_lay\n",
    "import keras.optimizers as k_opt\n",
    "import keras.utils as k_ut\n",
    "import numpy as np\n",
    "import pandas as pd\n",
    "import sklearn.metrics as sk_mt\n",
    "import sklearn.model_selection as sk_ms\n",
    "import sklearn.preprocessing as sk_pp\n",
    "import sklearn.utils as sk_ut"
   ]
  },
  {
   "cell_type": "code",
   "execution_count": null,
   "metadata": {},
   "outputs": [],
   "source": [
    "with open('lstm_tweets_net.pkl', 'rb') as f:\n",
    "    data = pickle.load(f)\n",
    "x, y = zip(*data)"
   ]
  },
  {
   "cell_type": "code",
   "execution_count": null,
   "metadata": {},
   "outputs": [],
   "source": [
    "pad_tag = '#PAD#'\n",
    "max_len = max(len(xw) for xw in x)"
   ]
  },
  {
   "cell_type": "code",
   "execution_count": null,
   "metadata": {},
   "outputs": [],
   "source": [
    "flat_tmp_x = set([b for a in x for b in a])\n",
    "\n",
    "indexed_tmp_x = {w: i + 1 for i, w in enumerate(flat_tmp_x)}\n",
    "indexed_tmp_x[pad_tag] = 0\n",
    "tagged_x = np.array([[indexed_tmp_x[wx] for wx in sx] for sx in x])\n",
    "\n",
    "lb = sk_pp.LabelBinarizer()\n",
    "lb.fit(y)\n",
    "\n",
    "x_tagged_train, x_tagged_test, y_train, y_test = sk_ms.train_test_split(tagged_x, lb.transform(y), shuffle=True)"
   ]
  },
  {
   "cell_type": "code",
   "execution_count": null,
   "metadata": {},
   "outputs": [],
   "source": [
    "input_dim = len(x[0])\n",
    "output_dim = len(set(y))"
   ]
  },
  {
   "cell_type": "code",
   "execution_count": null,
   "metadata": {},
   "outputs": [],
   "source": [
    "model = k_mod.Sequential()\n",
    "model.add(k_lay.Embedding(len(flat_tmp_x) + 1, 128, input_length=max_len))\n",
    "model.add(k_lay.LSTM(128))\n",
    "model.add(k_lay.Dense(output_dim, activation='softmax'))\n",
    "\n",
    "model.compile(loss='categorical_crossentropy', optimizer=k_opt.Adam(0.001), metrics=['accuracy'])\n",
    "model.fit(x_tagged_train, y_train, batch_size=128, epochs=10)"
   ]
  },
  {
   "cell_type": "code",
   "execution_count": null,
   "metadata": {},
   "outputs": [],
   "source": [
    "pred = model.predict_classes(x_tagged_test)\n",
    "y_pred = lb.inverse_transform(k_ut.to_categorical(pred))"
   ]
  },
  {
   "cell_type": "code",
   "execution_count": null,
   "metadata": {},
   "outputs": [],
   "source": [
    "print(sk_mt.classification_report(lb.inverse_transform(y_test), y_pred))"
   ]
  }
 ],
 "metadata": {
  "kernelspec": {
   "display_name": "Python 3",
   "language": "python",
   "name": "python3"
  },
  "language_info": {
   "codemirror_mode": {
    "name": "ipython",
    "version": 3
   },
   "file_extension": ".py",
   "mimetype": "text/x-python",
   "name": "python",
   "nbconvert_exporter": "python",
   "pygments_lexer": "ipython3",
   "version": "3.6.6"
  }
 },
 "nbformat": 4,
 "nbformat_minor": 2
}
