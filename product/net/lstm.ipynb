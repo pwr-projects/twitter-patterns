{
 "cells": [
  {
   "cell_type": "code",
   "execution_count": 1,
   "metadata": {},
   "outputs": [
    {
     "name": "stderr",
     "output_type": "stream",
     "text": [
      "Using TensorFlow backend.\n"
     ]
    }
   ],
   "source": [
    "import pickle\n",
    "\n",
    "import keras.preprocessing.sequence as k_ps\n",
    "import keras.models as k_mod\n",
    "import keras.layers as k_lay\n",
    "import keras.optimizers as k_opt\n",
    "import keras.utils as k_ut\n",
    "import numpy as np\n",
    "import pandas as pd\n",
    "import sklearn.metrics as sk_mt\n",
    "import sklearn.model_selection as sk_ms\n",
    "import sklearn.preprocessing as sk_pp\n",
    "import sklearn.utils as sk_ut"
   ]
  },
  {
   "cell_type": "code",
   "execution_count": 2,
   "metadata": {},
   "outputs": [],
   "source": [
    "# https://drive.google.com/open?id=1sFf7QUvHwbYSsFEDRRTzxNm_WsnoBU2x\n",
    "with open('lstm_tweets_net.pkl', 'rb') as f:\n",
    "    data = pickle.load(f)\n",
    "x, y = zip(*data)"
   ]
  },
  {
   "cell_type": "code",
   "execution_count": 3,
   "metadata": {},
   "outputs": [],
   "source": [
    "pad_tag = '#PAD#'\n",
    "max_len = max(len(xw) for xw in x)"
   ]
  },
  {
   "cell_type": "code",
   "execution_count": 4,
   "metadata": {},
   "outputs": [],
   "source": [
    "flat_tmp_x = set([b for a in x for b in a])\n",
    "\n",
    "indexed_tmp_x = {w: i + 1 for i, w in enumerate(flat_tmp_x)}\n",
    "indexed_tmp_x[pad_tag] = 0\n",
    "tagged_x = np.array([[indexed_tmp_x[wx] for wx in sx] for sx in x])\n",
    "\n",
    "lb = sk_pp.LabelBinarizer()\n",
    "lb.fit(y)\n",
    "\n",
    "x_tagged_train, x_tagged_test, y_train, y_test = sk_ms.train_test_split(tagged_x, lb.transform(y), shuffle=True)"
   ]
  },
  {
   "cell_type": "code",
   "execution_count": 5,
   "metadata": {},
   "outputs": [],
   "source": [
    "input_dim = len(x[0])\n",
    "output_dim = len(set(y))"
   ]
  },
  {
   "cell_type": "code",
   "execution_count": 6,
   "metadata": {},
   "outputs": [
    {
     "name": "stdout",
     "output_type": "stream",
     "text": [
      "Epoch 1/20\n",
      "14133/14133 [==============================] - 23s 2ms/step - loss: 1.2499 - acc: 0.4043\n",
      "Epoch 2/20\n",
      "14133/14133 [==============================] - 21s 2ms/step - loss: 0.9358 - acc: 0.6135\n",
      "Epoch 3/20\n",
      "14133/14133 [==============================] - 22s 2ms/step - loss: 0.6960 - acc: 0.7221\n",
      "Epoch 4/20\n",
      "14133/14133 [==============================] - 22s 2ms/step - loss: 0.5501 - acc: 0.7764\n",
      "Epoch 5/20\n",
      "14133/14133 [==============================] - 22s 2ms/step - loss: 0.4649 - acc: 0.8104\n",
      "Epoch 6/20\n",
      "14133/14133 [==============================] - 22s 2ms/step - loss: 0.4094 - acc: 0.8323\n",
      "Epoch 7/20\n",
      "14133/14133 [==============================] - 23s 2ms/step - loss: 0.3640 - acc: 0.8496\n",
      "Epoch 8/20\n",
      "14133/14133 [==============================] - 21s 2ms/step - loss: 0.3283 - acc: 0.8637\n",
      "Epoch 9/20\n",
      "14133/14133 [==============================] - 22s 2ms/step - loss: 0.3104 - acc: 0.8703\n",
      "Epoch 10/20\n",
      "14133/14133 [==============================] - 22s 2ms/step - loss: 0.2818 - acc: 0.8818\n",
      "Epoch 11/20\n",
      "14133/14133 [==============================] - 22s 2ms/step - loss: 0.2601 - acc: 0.8883\n",
      "Epoch 12/20\n",
      "14133/14133 [==============================] - 22s 2ms/step - loss: 0.2523 - acc: 0.8931\n",
      "Epoch 13/20\n",
      "14133/14133 [==============================] - 22s 2ms/step - loss: 0.2399 - acc: 0.8959\n",
      "Epoch 14/20\n",
      "14133/14133 [==============================] - 22s 2ms/step - loss: 0.2345 - acc: 0.9005\n",
      "Epoch 15/20\n",
      "14133/14133 [==============================] - 22s 2ms/step - loss: 0.2227 - acc: 0.9035\n",
      "Epoch 16/20\n",
      "14133/14133 [==============================] - 22s 2ms/step - loss: 0.2157 - acc: 0.9070\n",
      "Epoch 17/20\n",
      "14133/14133 [==============================] - 22s 2ms/step - loss: 0.2110 - acc: 0.9084\n",
      "Epoch 18/20\n",
      "14133/14133 [==============================] - 22s 2ms/step - loss: 0.1975 - acc: 0.9132\n",
      "Epoch 19/20\n",
      "14133/14133 [==============================] - 22s 2ms/step - loss: 0.1888 - acc: 0.9147\n",
      "Epoch 20/20\n",
      "14133/14133 [==============================] - 25s 2ms/step - loss: 0.1814 - acc: 0.9186\n"
     ]
    },
    {
     "data": {
      "text/plain": [
       "<keras.callbacks.History at 0x7f6ef22018d0>"
      ]
     },
     "execution_count": 6,
     "metadata": {},
     "output_type": "execute_result"
    }
   ],
   "source": [
    "model = k_mod.Sequential()\n",
    "model.add(k_lay.Embedding(len(flat_tmp_x) + 1, 256, input_length=max_len))\n",
    "model.add(k_lay.LSTM(128))\n",
    "model.add(k_lay.Dense(output_dim, activation='softmax'))\n",
    "\n",
    "model.compile(loss='categorical_crossentropy', optimizer=k_opt.Adam(0.001), metrics=['accuracy'])\n",
    "model.fit(x_tagged_train, y_train, batch_size=128, epochs=20)"
   ]
  },
  {
   "cell_type": "code",
   "execution_count": 7,
   "metadata": {},
   "outputs": [],
   "source": [
    "pred = model.predict_classes(x_tagged_test)\n",
    "y_pred = lb.inverse_transform(k_ut.to_categorical(pred))"
   ]
  },
  {
   "cell_type": "code",
   "execution_count": 8,
   "metadata": {},
   "outputs": [
    {
     "name": "stdout",
     "output_type": "stream",
     "text": [
      "              precision    recall  f1-score   support\n",
      "\n",
      "      actors       0.36      0.38      0.37      1185\n",
      "     athlets       0.42      0.41      0.41      1200\n",
      "    musicans       0.40      0.42      0.41      1139\n",
      "  politicans       0.62      0.56      0.58      1188\n",
      "\n",
      "   micro avg       0.44      0.44      0.44      4712\n",
      "   macro avg       0.45      0.44      0.44      4712\n",
      "weighted avg       0.45      0.44      0.44      4712\n",
      "\n"
     ]
    }
   ],
   "source": [
    "print(sk_mt.classification_report(lb.inverse_transform(y_test), y_pred))"
   ]
  }
 ],
 "metadata": {
  "kernelspec": {
   "display_name": "Python 3",
   "language": "python",
   "name": "python3"
  },
  "language_info": {
   "codemirror_mode": {
    "name": "ipython",
    "version": 3
   },
   "file_extension": ".py",
   "mimetype": "text/x-python",
   "name": "python",
   "nbconvert_exporter": "python",
   "pygments_lexer": "ipython3",
   "version": "3.6.6"
  }
 },
 "nbformat": 4,
 "nbformat_minor": 2
}
