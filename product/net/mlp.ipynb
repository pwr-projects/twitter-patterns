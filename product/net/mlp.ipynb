{
 "cells": [
  {
   "cell_type": "code",
   "execution_count": 9,
   "metadata": {},
   "outputs": [],
   "source": [
    "import pickle\n",
    "\n",
    "import keras.models as k_mod\n",
    "import keras.layers as k_lay\n",
    "import keras.optimizers as k_opt\n",
    "import keras.utils as k_ut\n",
    "import numpy as np\n",
    "import pandas as pd\n",
    "import sklearn.metrics as sk_mt\n",
    "import sklearn.model_selection as sk_ms\n",
    "import sklearn.preprocessing as sk_pp\n",
    "import sklearn.utils as sk_ut"
   ]
  },
  {
   "cell_type": "code",
   "execution_count": 10,
   "metadata": {},
   "outputs": [],
   "source": [
    "with open('tweets_net.pkl', 'rb') as f:\n",
    "    ds = pickle.load(f)"
   ]
  },
  {
   "cell_type": "code",
   "execution_count": 11,
   "metadata": {},
   "outputs": [],
   "source": [
    "x_vec = [[wx[1] for wx in sx]for sx in ds['x']]\n",
    "data = list(zip(x_vec, ds['y']))\n",
    "data = [ex for ex in data if len(ex[0]) > 0]\n",
    "data = [(np.average(ex[0], axis=0), ex[1]) for ex in data]\n",
    "# data = np.array(data)\n",
    "x, y = zip(*data)"
   ]
  },
  {
   "cell_type": "code",
   "execution_count": 12,
   "metadata": {},
   "outputs": [],
   "source": [
    "x = np.array(x)\n",
    "y = np.array(y)\n",
    "lb = sk_pp.LabelBinarizer()\n",
    "lb.fit(y)\n",
    "x_train, x_test, y_train, y_test = sk_ms.train_test_split(x, lb.transform(y), shuffle=True)"
   ]
  },
  {
   "cell_type": "code",
   "execution_count": 13,
   "metadata": {},
   "outputs": [],
   "source": [
    "input_dim = len(x[0])\n",
    "output_dim = len(set(y))"
   ]
  },
  {
   "cell_type": "code",
   "execution_count": 14,
   "metadata": {},
   "outputs": [],
   "source": [
    "model = k_mod.Sequential()\n",
    "model.add(k_lay.Dense(64, activation='relu', input_dim=input_dim))\n",
    "model.add(k_lay.Dropout(0.5))\n",
    "model.add(k_lay.Dense(64, activation='relu'))\n",
    "model.add(k_lay.Dropout(0.5))\n",
    "model.add(k_lay.Dense(output_dim, activation='softmax'))\n",
    "\n",
    "model.compile(loss='categorical_crossentropy', optimizer=k_opt.Adam(0.001), metrics=['accuracy'])"
   ]
  },
  {
   "cell_type": "code",
   "execution_count": null,
   "metadata": {},
   "outputs": [],
   "source": [
    "model.fit(x_train, y_train, epochs=50, batch_size=128)"
   ]
  },
  {
   "cell_type": "code",
   "execution_count": 7,
   "metadata": {},
   "outputs": [],
   "source": [
    "pred = model.predict_classes(x_test)\n",
    "y_pred = lb.inverse_transform(k_ut.to_categorical(pred))"
   ]
  },
  {
   "cell_type": "code",
   "execution_count": 8,
   "metadata": {},
   "outputs": [
    {
     "name": "stdout",
     "output_type": "stream",
     "text": [
      "              precision    recall  f1-score   support\n",
      "\n",
      "      actors       0.12      0.00      0.00      1203\n",
      "     athlets       0.22      0.02      0.03      1256\n",
      "    musicans       0.22      0.48      0.31      1077\n",
      "  politicans       0.20      0.38      0.26      1176\n",
      "\n",
      "   micro avg       0.21      0.21      0.21      4712\n",
      "   macro avg       0.19      0.22      0.15      4712\n",
      "weighted avg       0.19      0.21      0.14      4712\n",
      "\n"
     ]
    }
   ],
   "source": [
    "print(sk_mt.classification_report(lb.inverse_transform(y_test), y_pred))"
   ]
  }
 ],
 "metadata": {
  "kernelspec": {
   "display_name": "Python 3",
   "language": "python",
   "name": "python3"
  },
  "language_info": {
   "codemirror_mode": {
    "name": "ipython",
    "version": 3
   },
   "file_extension": ".py",
   "mimetype": "text/x-python",
   "name": "python",
   "nbconvert_exporter": "python",
   "pygments_lexer": "ipython3",
   "version": "3.6.6"
  }
 },
 "nbformat": 4,
 "nbformat_minor": 2
}
