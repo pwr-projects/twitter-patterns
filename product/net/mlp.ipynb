{
 "cells": [
  {
   "cell_type": "code",
   "execution_count": 1,
   "metadata": {},
   "outputs": [
    {
     "name": "stderr",
     "output_type": "stream",
     "text": [
      "Using TensorFlow backend.\n"
     ]
    }
   ],
   "source": [
    "import pickle\n",
    "\n",
    "import keras.models as k_mod\n",
    "import keras.layers as k_lay\n",
    "import keras.optimizers as k_opt\n",
    "import keras.utils as k_ut\n",
    "import numpy as np\n",
    "import pandas as pd\n",
    "import sklearn.metrics as sk_mt\n",
    "import sklearn.model_selection as sk_ms\n",
    "import sklearn.preprocessing as sk_pp\n",
<<<<<<< HEAD
    "import sklearn.utils as sk_ut\n",
    "from utils import score, print_scores, plot_confusion_matrix"
=======
    "import sklearn.utils as sk_ut"
>>>>>>> f3bb767b6a9efaa57639aef8e331f9f3a552bd78
   ]
  },
  {
   "cell_type": "code",
   "execution_count": 2,
   "metadata": {},
   "outputs": [],
   "source": [
<<<<<<< HEAD
=======
    "# https://drive.google.com/open?id=1bDYJj9HkiRUOpzH2-D_ZQbji5LUeu_fJ\n",
>>>>>>> f3bb767b6a9efaa57639aef8e331f9f3a552bd78
    "with open('tweets_net.pkl', 'rb') as f:\n",
    "    ds = pickle.load(f)"
   ]
  },
  {
   "cell_type": "code",
   "execution_count": 3,
   "metadata": {},
   "outputs": [],
   "source": [
    "x_vec = [[wx[1] for wx in sx]for sx in ds['x']]\n",
    "data = list(zip(x_vec, ds['y']))\n",
    "data = [ex for ex in data if len(ex[0]) > 0]\n",
    "data = [(np.average(ex[0], axis=0), ex[1]) for ex in data]\n",
    "# data = np.array(data)\n",
    "x, y = zip(*data)"
   ]
  },
  {
   "cell_type": "code",
<<<<<<< HEAD
   "execution_count": 6,
=======
   "execution_count": 4,
>>>>>>> f3bb767b6a9efaa57639aef8e331f9f3a552bd78
   "metadata": {},
   "outputs": [],
   "source": [
    "x = np.array(x)\n",
    "y = np.array(y)\n",
    "lb = sk_pp.LabelBinarizer()\n",
    "lb.fit(y)\n",
    "x_train, x_test, y_train, y_test = sk_ms.train_test_split(x, lb.transform(y), shuffle=True)"
   ]
  },
  {
   "cell_type": "code",
<<<<<<< HEAD
   "execution_count": 7,
=======
   "execution_count": 5,
>>>>>>> f3bb767b6a9efaa57639aef8e331f9f3a552bd78
   "metadata": {},
   "outputs": [],
   "source": [
    "input_dim = len(x[0])\n",
    "output_dim = len(set(y))"
   ]
  },
  {
   "cell_type": "code",
<<<<<<< HEAD
   "execution_count": 8,
=======
   "execution_count": 6,
>>>>>>> f3bb767b6a9efaa57639aef8e331f9f3a552bd78
   "metadata": {},
   "outputs": [],
   "source": [
    "model = k_mod.Sequential()\n",
<<<<<<< HEAD
    "model.add(k_lay.Dense(128, activation='relu', input_dim=input_dim))\n",
    "model.add(k_lay.Dropout(0.5))\n",
    "model.add(k_lay.Dense(64, activation='relu'))\n",
    "model.add(k_lay.Dropout(0.5))\n",
    "model.add(k_lay.Dense(32, activation='relu'))\n",
    "model.add(k_lay.Dropout(0.5))\n",
=======
    "model.add(k_lay.Dense(64, activation='relu', input_dim=input_dim))\n",
    "model.add(k_lay.Dropout(0.5))\n",
    "model.add(k_lay.Dense(32, activation='relu'))\n",
    "model.add(k_lay.Dropout(0.5))\n",
    "model.add(k_lay.Dense(16, activation='relu'))\n",
    "model.add(k_lay.Dropout(0.5))\n",
>>>>>>> f3bb767b6a9efaa57639aef8e331f9f3a552bd78
    "model.add(k_lay.Dense(output_dim, activation='softmax'))\n",
    "\n",
    "model.compile(loss='categorical_crossentropy', optimizer=k_opt.Adam(0.001), metrics=['accuracy'])"
   ]
  },
  {
   "cell_type": "code",
   "execution_count": 7,
<<<<<<< HEAD
   "metadata": {
    "scrolled": true
   },
=======
   "metadata": {},
>>>>>>> f3bb767b6a9efaa57639aef8e331f9f3a552bd78
   "outputs": [
    {
     "name": "stdout",
     "output_type": "stream",
     "text": [
      "Epoch 1/50\n",
<<<<<<< HEAD
      "14133/14133 [==============================] - 2s 162us/step - loss: 1.3666 - acc: 0.3239\n",
      "Epoch 2/50\n",
      "14133/14133 [==============================] - 1s 40us/step - loss: 1.2574 - acc: 0.4007\n",
      "Epoch 3/50\n",
      "14133/14133 [==============================] - 1s 39us/step - loss: 1.2116 - acc: 0.4350\n",
      "Epoch 4/50\n",
      "14133/14133 [==============================] - 1s 39us/step - loss: 1.2000 - acc: 0.4441\n",
      "Epoch 5/50\n",
      "14133/14133 [==============================] - 0s 33us/step - loss: 1.1804 - acc: 0.4605\n",
      "Epoch 6/50\n",
      "14133/14133 [==============================] - 0s 24us/step - loss: 1.1632 - acc: 0.4765\n",
      "Epoch 7/50\n",
      "14133/14133 [==============================] - 0s 23us/step - loss: 1.1514 - acc: 0.4859\n",
      "Epoch 8/50\n",
      "14133/14133 [==============================] - 0s 24us/step - loss: 1.1447 - acc: 0.4927\n",
      "Epoch 9/50\n",
      "14133/14133 [==============================] - 0s 24us/step - loss: 1.1311 - acc: 0.5020\n",
      "Epoch 10/50\n",
      "14133/14133 [==============================] - 0s 24us/step - loss: 1.1240 - acc: 0.5107\n",
      "Epoch 11/50\n",
      "14133/14133 [==============================] - 0s 23us/step - loss: 1.1138 - acc: 0.5161\n",
      "Epoch 12/50\n",
      "14133/14133 [==============================] - 0s 24us/step - loss: 1.1070 - acc: 0.5203\n",
      "Epoch 13/50\n",
      "14133/14133 [==============================] - 0s 23us/step - loss: 1.0929 - acc: 0.5237\n",
      "Epoch 14/50\n",
      "14133/14133 [==============================] - 0s 22us/step - loss: 1.0892 - acc: 0.5276\n",
      "Epoch 15/50\n",
      "14133/14133 [==============================] - 0s 23us/step - loss: 1.0840 - acc: 0.5305\n",
      "Epoch 16/50\n",
      "14133/14133 [==============================] - 0s 22us/step - loss: 1.0775 - acc: 0.5336\n",
      "Epoch 17/50\n",
      "14133/14133 [==============================] - 0s 23us/step - loss: 1.0774 - acc: 0.5423\n",
      "Epoch 18/50\n",
      "14133/14133 [==============================] - 0s 24us/step - loss: 1.0606 - acc: 0.5486\n",
      "Epoch 19/50\n",
      "14133/14133 [==============================] - 0s 25us/step - loss: 1.0551 - acc: 0.5518\n",
      "Epoch 20/50\n",
      "14133/14133 [==============================] - 0s 23us/step - loss: 1.0520 - acc: 0.5498\n",
      "Epoch 21/50\n",
      "14133/14133 [==============================] - 0s 24us/step - loss: 1.0443 - acc: 0.5566\n",
      "Epoch 22/50\n",
      "14133/14133 [==============================] - 0s 24us/step - loss: 1.0361 - acc: 0.5610\n",
      "Epoch 23/50\n",
      "14133/14133 [==============================] - 0s 23us/step - loss: 1.0314 - acc: 0.5665\n",
      "Epoch 24/50\n",
      "14133/14133 [==============================] - 0s 25us/step - loss: 1.0341 - acc: 0.5627\n",
      "Epoch 25/50\n",
      "14133/14133 [==============================] - 0s 24us/step - loss: 1.0222 - acc: 0.5687\n",
      "Epoch 26/50\n",
      "14133/14133 [==============================] - 0s 22us/step - loss: 1.0226 - acc: 0.5698\n",
      "Epoch 27/50\n",
      "14133/14133 [==============================] - 0s 23us/step - loss: 1.0233 - acc: 0.5724\n",
      "Epoch 28/50\n",
      "14133/14133 [==============================] - 0s 23us/step - loss: 1.0101 - acc: 0.5783\n",
      "Epoch 29/50\n",
      "14133/14133 [==============================] - 0s 22us/step - loss: 1.0057 - acc: 0.5781\n",
      "Epoch 30/50\n",
      "14133/14133 [==============================] - 0s 22us/step - loss: 0.9994 - acc: 0.5830\n",
      "Epoch 31/50\n",
      "14133/14133 [==============================] - 0s 24us/step - loss: 0.9943 - acc: 0.5830\n",
      "Epoch 32/50\n",
      "14133/14133 [==============================] - 0s 23us/step - loss: 0.9801 - acc: 0.5895\n",
      "Epoch 33/50\n",
      "14133/14133 [==============================] - 0s 25us/step - loss: 0.9836 - acc: 0.5870\n",
      "Epoch 34/50\n",
      "14133/14133 [==============================] - 0s 24us/step - loss: 0.9754 - acc: 0.5916\n",
      "Epoch 35/50\n",
      "14133/14133 [==============================] - 0s 23us/step - loss: 0.9804 - acc: 0.5902\n",
      "Epoch 36/50\n",
      "14133/14133 [==============================] - 0s 35us/step - loss: 0.9775 - acc: 0.5921\n",
      "Epoch 37/50\n",
      "14133/14133 [==============================] - 1s 40us/step - loss: 0.9716 - acc: 0.5969\n",
      "Epoch 38/50\n",
      "14133/14133 [==============================] - 1s 40us/step - loss: 0.9685 - acc: 0.5972\n",
      "Epoch 39/50\n",
      "14133/14133 [==============================] - 1s 40us/step - loss: 0.9614 - acc: 0.5927\n",
      "Epoch 40/50\n",
      "14133/14133 [==============================] - 1s 42us/step - loss: 0.9637 - acc: 0.5998\n",
      "Epoch 41/50\n",
      "14133/14133 [==============================] - 1s 46us/step - loss: 0.9530 - acc: 0.6055\n",
      "Epoch 42/50\n",
      "14133/14133 [==============================] - 1s 45us/step - loss: 0.9562 - acc: 0.6059\n",
      "Epoch 43/50\n",
      "14133/14133 [==============================] - 1s 44us/step - loss: 0.9443 - acc: 0.6074\n",
      "Epoch 44/50\n",
      "14133/14133 [==============================] - 1s 39us/step - loss: 0.9435 - acc: 0.6088\n",
      "Epoch 45/50\n",
      "14133/14133 [==============================] - 1s 39us/step - loss: 0.9356 - acc: 0.6137\n",
      "Epoch 46/50\n",
      "14133/14133 [==============================] - 1s 37us/step - loss: 0.9358 - acc: 0.6094\n",
      "Epoch 47/50\n",
      "14133/14133 [==============================] - 1s 40us/step - loss: 0.9374 - acc: 0.6164\n",
      "Epoch 48/50\n",
      "14133/14133 [==============================] - 0s 21us/step - loss: 0.9327 - acc: 0.6167\n",
      "Epoch 49/50\n",
      "14133/14133 [==============================] - 0s 21us/step - loss: 0.9237 - acc: 0.6210\n",
      "Epoch 50/50\n",
      "14133/14133 [==============================] - 0s 18us/step - loss: 0.9243 - acc: 0.6183\n"
=======
      "14133/14133 [==============================] - 1s 76us/step - loss: 1.3978 - acc: 0.2789\n",
      "Epoch 2/50\n",
      "14133/14133 [==============================] - 1s 43us/step - loss: 1.3425 - acc: 0.3484\n",
      "Epoch 3/50\n",
      "14133/14133 [==============================] - 1s 47us/step - loss: 1.2839 - acc: 0.3853\n",
      "Epoch 4/50\n",
      "14133/14133 [==============================] - 1s 38us/step - loss: 1.2564 - acc: 0.4008\n",
      "Epoch 5/50\n",
      "14133/14133 [==============================] - 0s 32us/step - loss: 1.2368 - acc: 0.4105\n",
      "Epoch 6/50\n",
      "14133/14133 [==============================] - 0s 24us/step - loss: 1.2241 - acc: 0.4258\n",
      "Epoch 7/50\n",
      "14133/14133 [==============================] - 0s 35us/step - loss: 1.2144 - acc: 0.4339\n",
      "Epoch 8/50\n",
      "14133/14133 [==============================] - 0s 30us/step - loss: 1.2054 - acc: 0.4383\n",
      "Epoch 9/50\n",
      "14133/14133 [==============================] - 0s 31us/step - loss: 1.1952 - acc: 0.4495\n",
      "Epoch 10/50\n",
      "14133/14133 [==============================] - 0s 31us/step - loss: 1.1875 - acc: 0.4625\n",
      "Epoch 11/50\n",
      "14133/14133 [==============================] - 0s 30us/step - loss: 1.1842 - acc: 0.4622\n",
      "Epoch 12/50\n",
      "14133/14133 [==============================] - 0s 28us/step - loss: 1.1699 - acc: 0.4708\n",
      "Epoch 13/50\n",
      "14133/14133 [==============================] - 0s 30us/step - loss: 1.1647 - acc: 0.4736\n",
      "Epoch 14/50\n",
      "14133/14133 [==============================] - 0s 31us/step - loss: 1.1669 - acc: 0.4771\n",
      "Epoch 15/50\n",
      "14133/14133 [==============================] - 0s 28us/step - loss: 1.1645 - acc: 0.4753\n",
      "Epoch 16/50\n",
      "14133/14133 [==============================] - 0s 30us/step - loss: 1.1588 - acc: 0.4842\n",
      "Epoch 17/50\n",
      "14133/14133 [==============================] - 1s 36us/step - loss: 1.1536 - acc: 0.4887\n",
      "Epoch 18/50\n",
      "14133/14133 [==============================] - 0s 32us/step - loss: 1.1503 - acc: 0.4877\n",
      "Epoch 19/50\n",
      "14133/14133 [==============================] - 0s 32us/step - loss: 1.1487 - acc: 0.4903\n",
      "Epoch 20/50\n",
      "14133/14133 [==============================] - 0s 32us/step - loss: 1.1384 - acc: 0.4945\n",
      "Epoch 21/50\n",
      "14133/14133 [==============================] - 0s 26us/step - loss: 1.1402 - acc: 0.4896\n",
      "Epoch 22/50\n",
      "14133/14133 [==============================] - 0s 27us/step - loss: 1.1361 - acc: 0.5049\n",
      "Epoch 23/50\n",
      "14133/14133 [==============================] - 0s 27us/step - loss: 1.1297 - acc: 0.5034\n",
      "Epoch 24/50\n",
      "14133/14133 [==============================] - 0s 24us/step - loss: 1.1260 - acc: 0.5031\n",
      "Epoch 25/50\n",
      "14133/14133 [==============================] - 0s 29us/step - loss: 1.1255 - acc: 0.5044\n",
      "Epoch 26/50\n",
      "14133/14133 [==============================] - 0s 28us/step - loss: 1.1222 - acc: 0.5062\n",
      "Epoch 27/50\n",
      "14133/14133 [==============================] - 0s 24us/step - loss: 1.1220 - acc: 0.5054\n",
      "Epoch 28/50\n",
      "14133/14133 [==============================] - 0s 23us/step - loss: 1.1155 - acc: 0.5118\n",
      "Epoch 29/50\n",
      "14133/14133 [==============================] - 0s 25us/step - loss: 1.1131 - acc: 0.5152\n",
      "Epoch 30/50\n",
      "14133/14133 [==============================] - 0s 21us/step - loss: 1.1085 - acc: 0.5160\n",
      "Epoch 31/50\n",
      "14133/14133 [==============================] - 0s 20us/step - loss: 1.1104 - acc: 0.5153\n",
      "Epoch 32/50\n",
      "14133/14133 [==============================] - 0s 21us/step - loss: 1.1020 - acc: 0.5202\n",
      "Epoch 33/50\n",
      "14133/14133 [==============================] - 0s 22us/step - loss: 1.0996 - acc: 0.5201\n",
      "Epoch 34/50\n",
      "14133/14133 [==============================] - 0s 22us/step - loss: 1.1016 - acc: 0.5184\n",
      "Epoch 35/50\n",
      "14133/14133 [==============================] - 0s 21us/step - loss: 1.1013 - acc: 0.5227\n",
      "Epoch 36/50\n",
      "14133/14133 [==============================] - 0s 20us/step - loss: 1.0957 - acc: 0.5213\n",
      "Epoch 37/50\n",
      "14133/14133 [==============================] - 0s 20us/step - loss: 1.0890 - acc: 0.5267\n",
      "Epoch 38/50\n",
      "14133/14133 [==============================] - 0s 19us/step - loss: 1.0877 - acc: 0.5287\n",
      "Epoch 39/50\n",
      "14133/14133 [==============================] - 0s 20us/step - loss: 1.0951 - acc: 0.5287\n",
      "Epoch 40/50\n",
      "14133/14133 [==============================] - 0s 21us/step - loss: 1.0902 - acc: 0.5260\n",
      "Epoch 41/50\n",
      "14133/14133 [==============================] - 0s 20us/step - loss: 1.0866 - acc: 0.5264\n",
      "Epoch 42/50\n",
      "14133/14133 [==============================] - 0s 17us/step - loss: 1.0893 - acc: 0.5259\n",
      "Epoch 43/50\n",
      "14133/14133 [==============================] - 0s 18us/step - loss: 1.0759 - acc: 0.5290\n",
      "Epoch 44/50\n",
      "14133/14133 [==============================] - 0s 17us/step - loss: 1.0825 - acc: 0.5315\n",
      "Epoch 45/50\n",
      "14133/14133 [==============================] - 0s 20us/step - loss: 1.0799 - acc: 0.5310\n",
      "Epoch 46/50\n",
      "14133/14133 [==============================] - 0s 19us/step - loss: 1.0781 - acc: 0.5322\n",
      "Epoch 47/50\n",
      "14133/14133 [==============================] - 0s 20us/step - loss: 1.0755 - acc: 0.5369\n",
      "Epoch 48/50\n",
      "14133/14133 [==============================] - 0s 18us/step - loss: 1.0736 - acc: 0.5287\n",
      "Epoch 49/50\n",
      "14133/14133 [==============================] - 0s 19us/step - loss: 1.0716 - acc: 0.5363\n",
      "Epoch 50/50\n",
      "14133/14133 [==============================] - 0s 20us/step - loss: 1.0699 - acc: 0.5403\n"
>>>>>>> f3bb767b6a9efaa57639aef8e331f9f3a552bd78
     ]
    },
    {
     "data": {
      "text/plain": [
<<<<<<< HEAD
       "<keras.callbacks.History at 0x7f7e2f3c3940>"
=======
       "<keras.callbacks.History at 0x7fe7cc3613c8>"
>>>>>>> f3bb767b6a9efaa57639aef8e331f9f3a552bd78
      ]
     },
     "execution_count": 7,
     "metadata": {},
     "output_type": "execute_result"
    }
   ],
   "source": [
    "model.fit(x_train, y_train, epochs=50, batch_size=128)"
   ]
  },
  {
   "cell_type": "code",
<<<<<<< HEAD
   "execution_count": 10,
   "metadata": {},
   "outputs": [],
   "source": [
    "\n",
    "with open('../mlp.pkl', 'rb') as f:\n",
    "    model = pickle.load(f)\n",
    "pred = model.predict_classes(x_test)\n",
    "y_pred = lb.inverse_transform(k_ut.to_categorical(pred))\n",
    "y_true = lb.inverse_transform(y_test)\n"
=======
   "execution_count": 8,
   "metadata": {},
   "outputs": [],
   "source": [
    "pred = model.predict_classes(x_test)\n",
    "y_pred = lb.inverse_transform(k_ut.to_categorical(pred))"
>>>>>>> f3bb767b6a9efaa57639aef8e331f9f3a552bd78
   ]
  },
  {
   "cell_type": "code",
<<<<<<< HEAD
   "execution_count": 11,
=======
   "execution_count": 9,
>>>>>>> f3bb767b6a9efaa57639aef8e331f9f3a552bd78
   "metadata": {},
   "outputs": [
    {
     "name": "stdout",
     "output_type": "stream",
     "text": [
      "              precision    recall  f1-score   support\n",
      "\n",
<<<<<<< HEAD
      "      actors       0.56      0.62      0.59      1172\n",
      "     athlets       0.64      0.61      0.63      1204\n",
      "    musicans       0.62      0.58      0.60      1126\n",
      "  politicans       0.81      0.80      0.80      1210\n",
      "\n",
      "   micro avg       0.65      0.65      0.65      4712\n",
      "   macro avg       0.66      0.65      0.65      4712\n",
      "weighted avg       0.66      0.65      0.66      4712\n",
=======
      "      actors       0.46      0.36      0.40      1216\n",
      "     athlets       0.41      0.60      0.49      1177\n",
      "    musicans       0.54      0.37      0.44      1118\n",
      "  politicans       0.68      0.73      0.70      1201\n",
      "\n",
      "   micro avg       0.52      0.52      0.52      4712\n",
      "   macro avg       0.52      0.51      0.51      4712\n",
      "weighted avg       0.52      0.52      0.51      4712\n",
>>>>>>> f3bb767b6a9efaa57639aef8e331f9f3a552bd78
      "\n"
     ]
    }
   ],
   "source": [
<<<<<<< HEAD
    "print(sk_mt.classification_report(y_true, y_pred))"
   ]
  },
  {
   "cell_type": "code",
   "execution_count": 12,
   "metadata": {},
   "outputs": [
    {
     "name": "stdout",
     "output_type": "stream",
     "text": [
      "acc 0.6549235993208828\n",
      "f1 0.6540516869968834\n",
      "prec 0.65612504152211\n",
      "rec 0.6533388029827581\n"
     ]
    }
   ],
   "source": [
    "print_scores(*score(y_true, y_pred))"
   ]
  },
  {
   "cell_type": "code",
   "execution_count": 13,
   "metadata": {},
   "outputs": [
    {
     "data": {
      "image/png": "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\n",
      "text/plain": [
       "<Figure size 432x288 with 2 Axes>"
      ]
     },
     "metadata": {
      "needs_background": "light"
     },
     "output_type": "display_data"
    }
   ],
   "source": [
    "plot_confusion_matrix(y_true, y_pred, sorted(set(y_true)))"
   ]
  },
  {
   "cell_type": "code",
   "execution_count": 12,
   "metadata": {},
   "outputs": [],
   "source": [
    "with open('../mlp.pkl', 'wb') as f:\n",
    "    pickle.dump(model, f)"
   ]
  },
  {
   "cell_type": "code",
   "execution_count": null,
   "metadata": {},
   "outputs": [],
   "source": []
=======
    "print(sk_mt.classification_report(lb.inverse_transform(y_test), y_pred))"
   ]
>>>>>>> f3bb767b6a9efaa57639aef8e331f9f3a552bd78
  }
 ],
 "metadata": {
  "kernelspec": {
   "display_name": "Python 3",
   "language": "python",
   "name": "python3"
  },
  "language_info": {
   "codemirror_mode": {
    "name": "ipython",
    "version": 3
   },
   "file_extension": ".py",
   "mimetype": "text/x-python",
   "name": "python",
   "nbconvert_exporter": "python",
   "pygments_lexer": "ipython3",
<<<<<<< HEAD
   "version": "3.6.7"
=======
   "version": "3.6.6"
>>>>>>> f3bb767b6a9efaa57639aef8e331f9f3a552bd78
  }
 },
 "nbformat": 4,
 "nbformat_minor": 2
}
