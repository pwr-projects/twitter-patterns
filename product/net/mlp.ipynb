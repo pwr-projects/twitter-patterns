{
 "cells": [
  {
   "cell_type": "code",
   "execution_count": 1,
   "metadata": {},
   "outputs": [
    {
     "name": "stderr",
     "output_type": "stream",
     "text": [
      "Using TensorFlow backend.\n"
     ]
    }
   ],
   "source": [
    "import pickle\n",
    "\n",
    "import keras.models as k_mod\n",
    "import keras.layers as k_lay\n",
    "import keras.optimizers as k_opt\n",
    "import keras.utils as k_ut\n",
    "import numpy as np\n",
    "import pandas as pd\n",
    "import sklearn.metrics as sk_mt\n",
    "import sklearn.model_selection as sk_ms\n",
    "import sklearn.preprocessing as sk_pp\n",
    "import sklearn.utils as sk_ut"
   ]
  },
  {
   "cell_type": "code",
   "execution_count": 2,
   "metadata": {},
   "outputs": [],
   "source": [
    "# https://drive.google.com/open?id=1bDYJj9HkiRUOpzH2-D_ZQbji5LUeu_fJ\n",
    "with open('tweets_net.pkl', 'rb') as f:\n",
    "    ds = pickle.load(f)"
   ]
  },
  {
   "cell_type": "code",
   "execution_count": 3,
   "metadata": {},
   "outputs": [],
   "source": [
    "x_vec = [[wx[1] for wx in sx]for sx in ds['x']]\n",
    "data = list(zip(x_vec, ds['y']))\n",
    "data = [ex for ex in data if len(ex[0]) > 0]\n",
    "data = [(np.average(ex[0], axis=0), ex[1]) for ex in data]\n",
    "# data = np.array(data)\n",
    "x, y = zip(*data)"
   ]
  },
  {
   "cell_type": "code",
   "execution_count": 4,
   "metadata": {},
   "outputs": [],
   "source": [
    "x = np.array(x)\n",
    "y = np.array(y)\n",
    "lb = sk_pp.LabelBinarizer()\n",
    "lb.fit(y)\n",
    "x_train, x_test, y_train, y_test = sk_ms.train_test_split(x, lb.transform(y), shuffle=True)"
   ]
  },
  {
   "cell_type": "code",
   "execution_count": 5,
   "metadata": {},
   "outputs": [],
   "source": [
    "input_dim = len(x[0])\n",
    "output_dim = len(set(y))"
   ]
  },
  {
   "cell_type": "code",
   "execution_count": 6,
   "metadata": {},
   "outputs": [],
   "source": [
    "model = k_mod.Sequential()\n",
    "model.add(k_lay.Dense(64, activation='relu', input_dim=input_dim))\n",
    "model.add(k_lay.Dropout(0.5))\n",
    "model.add(k_lay.Dense(32, activation='relu'))\n",
    "model.add(k_lay.Dropout(0.5))\n",
    "model.add(k_lay.Dense(16, activation='relu'))\n",
    "model.add(k_lay.Dropout(0.5))\n",
    "model.add(k_lay.Dense(output_dim, activation='softmax'))\n",
    "\n",
    "model.compile(loss='categorical_crossentropy', optimizer=k_opt.Adam(0.001), metrics=['accuracy'])"
   ]
  },
  {
   "cell_type": "code",
   "execution_count": 7,
   "metadata": {},
   "outputs": [
    {
     "name": "stdout",
     "output_type": "stream",
     "text": [
      "Epoch 1/50\n",
      "14133/14133 [==============================] - 1s 76us/step - loss: 1.3978 - acc: 0.2789\n",
      "Epoch 2/50\n",
      "14133/14133 [==============================] - 1s 43us/step - loss: 1.3425 - acc: 0.3484\n",
      "Epoch 3/50\n",
      "14133/14133 [==============================] - 1s 47us/step - loss: 1.2839 - acc: 0.3853\n",
      "Epoch 4/50\n",
      "14133/14133 [==============================] - 1s 38us/step - loss: 1.2564 - acc: 0.4008\n",
      "Epoch 5/50\n",
      "14133/14133 [==============================] - 0s 32us/step - loss: 1.2368 - acc: 0.4105\n",
      "Epoch 6/50\n",
      "14133/14133 [==============================] - 0s 24us/step - loss: 1.2241 - acc: 0.4258\n",
      "Epoch 7/50\n",
      "14133/14133 [==============================] - 0s 35us/step - loss: 1.2144 - acc: 0.4339\n",
      "Epoch 8/50\n",
      "14133/14133 [==============================] - 0s 30us/step - loss: 1.2054 - acc: 0.4383\n",
      "Epoch 9/50\n",
      "14133/14133 [==============================] - 0s 31us/step - loss: 1.1952 - acc: 0.4495\n",
      "Epoch 10/50\n",
      "14133/14133 [==============================] - 0s 31us/step - loss: 1.1875 - acc: 0.4625\n",
      "Epoch 11/50\n",
      "14133/14133 [==============================] - 0s 30us/step - loss: 1.1842 - acc: 0.4622\n",
      "Epoch 12/50\n",
      "14133/14133 [==============================] - 0s 28us/step - loss: 1.1699 - acc: 0.4708\n",
      "Epoch 13/50\n",
      "14133/14133 [==============================] - 0s 30us/step - loss: 1.1647 - acc: 0.4736\n",
      "Epoch 14/50\n",
      "14133/14133 [==============================] - 0s 31us/step - loss: 1.1669 - acc: 0.4771\n",
      "Epoch 15/50\n",
      "14133/14133 [==============================] - 0s 28us/step - loss: 1.1645 - acc: 0.4753\n",
      "Epoch 16/50\n",
      "14133/14133 [==============================] - 0s 30us/step - loss: 1.1588 - acc: 0.4842\n",
      "Epoch 17/50\n",
      "14133/14133 [==============================] - 1s 36us/step - loss: 1.1536 - acc: 0.4887\n",
      "Epoch 18/50\n",
      "14133/14133 [==============================] - 0s 32us/step - loss: 1.1503 - acc: 0.4877\n",
      "Epoch 19/50\n",
      "14133/14133 [==============================] - 0s 32us/step - loss: 1.1487 - acc: 0.4903\n",
      "Epoch 20/50\n",
      "14133/14133 [==============================] - 0s 32us/step - loss: 1.1384 - acc: 0.4945\n",
      "Epoch 21/50\n",
      "14133/14133 [==============================] - 0s 26us/step - loss: 1.1402 - acc: 0.4896\n",
      "Epoch 22/50\n",
      "14133/14133 [==============================] - 0s 27us/step - loss: 1.1361 - acc: 0.5049\n",
      "Epoch 23/50\n",
      "14133/14133 [==============================] - 0s 27us/step - loss: 1.1297 - acc: 0.5034\n",
      "Epoch 24/50\n",
      "14133/14133 [==============================] - 0s 24us/step - loss: 1.1260 - acc: 0.5031\n",
      "Epoch 25/50\n",
      "14133/14133 [==============================] - 0s 29us/step - loss: 1.1255 - acc: 0.5044\n",
      "Epoch 26/50\n",
      "14133/14133 [==============================] - 0s 28us/step - loss: 1.1222 - acc: 0.5062\n",
      "Epoch 27/50\n",
      "14133/14133 [==============================] - 0s 24us/step - loss: 1.1220 - acc: 0.5054\n",
      "Epoch 28/50\n",
      "14133/14133 [==============================] - 0s 23us/step - loss: 1.1155 - acc: 0.5118\n",
      "Epoch 29/50\n",
      "14133/14133 [==============================] - 0s 25us/step - loss: 1.1131 - acc: 0.5152\n",
      "Epoch 30/50\n",
      "14133/14133 [==============================] - 0s 21us/step - loss: 1.1085 - acc: 0.5160\n",
      "Epoch 31/50\n",
      "14133/14133 [==============================] - 0s 20us/step - loss: 1.1104 - acc: 0.5153\n",
      "Epoch 32/50\n",
      "14133/14133 [==============================] - 0s 21us/step - loss: 1.1020 - acc: 0.5202\n",
      "Epoch 33/50\n",
      "14133/14133 [==============================] - 0s 22us/step - loss: 1.0996 - acc: 0.5201\n",
      "Epoch 34/50\n",
      "14133/14133 [==============================] - 0s 22us/step - loss: 1.1016 - acc: 0.5184\n",
      "Epoch 35/50\n",
      "14133/14133 [==============================] - 0s 21us/step - loss: 1.1013 - acc: 0.5227\n",
      "Epoch 36/50\n",
      "14133/14133 [==============================] - 0s 20us/step - loss: 1.0957 - acc: 0.5213\n",
      "Epoch 37/50\n",
      "14133/14133 [==============================] - 0s 20us/step - loss: 1.0890 - acc: 0.5267\n",
      "Epoch 38/50\n",
      "14133/14133 [==============================] - 0s 19us/step - loss: 1.0877 - acc: 0.5287\n",
      "Epoch 39/50\n",
      "14133/14133 [==============================] - 0s 20us/step - loss: 1.0951 - acc: 0.5287\n",
      "Epoch 40/50\n",
      "14133/14133 [==============================] - 0s 21us/step - loss: 1.0902 - acc: 0.5260\n",
      "Epoch 41/50\n",
      "14133/14133 [==============================] - 0s 20us/step - loss: 1.0866 - acc: 0.5264\n",
      "Epoch 42/50\n",
      "14133/14133 [==============================] - 0s 17us/step - loss: 1.0893 - acc: 0.5259\n",
      "Epoch 43/50\n",
      "14133/14133 [==============================] - 0s 18us/step - loss: 1.0759 - acc: 0.5290\n",
      "Epoch 44/50\n",
      "14133/14133 [==============================] - 0s 17us/step - loss: 1.0825 - acc: 0.5315\n",
      "Epoch 45/50\n",
      "14133/14133 [==============================] - 0s 20us/step - loss: 1.0799 - acc: 0.5310\n",
      "Epoch 46/50\n",
      "14133/14133 [==============================] - 0s 19us/step - loss: 1.0781 - acc: 0.5322\n",
      "Epoch 47/50\n",
      "14133/14133 [==============================] - 0s 20us/step - loss: 1.0755 - acc: 0.5369\n",
      "Epoch 48/50\n",
      "14133/14133 [==============================] - 0s 18us/step - loss: 1.0736 - acc: 0.5287\n",
      "Epoch 49/50\n",
      "14133/14133 [==============================] - 0s 19us/step - loss: 1.0716 - acc: 0.5363\n",
      "Epoch 50/50\n",
      "14133/14133 [==============================] - 0s 20us/step - loss: 1.0699 - acc: 0.5403\n"
     ]
    },
    {
     "data": {
      "text/plain": [
       "<keras.callbacks.History at 0x7fe7cc3613c8>"
      ]
     },
     "execution_count": 7,
     "metadata": {},
     "output_type": "execute_result"
    }
   ],
   "source": [
    "model.fit(x_train, y_train, epochs=50, batch_size=128)"
   ]
  },
  {
   "cell_type": "code",
   "execution_count": 8,
   "metadata": {},
   "outputs": [],
   "source": [
    "pred = model.predict_classes(x_test)\n",
    "y_pred = lb.inverse_transform(k_ut.to_categorical(pred))"
   ]
  },
  {
   "cell_type": "code",
   "execution_count": 9,
   "metadata": {},
   "outputs": [
    {
     "name": "stdout",
     "output_type": "stream",
     "text": [
      "              precision    recall  f1-score   support\n",
      "\n",
      "      actors       0.46      0.36      0.40      1216\n",
      "     athlets       0.41      0.60      0.49      1177\n",
      "    musicans       0.54      0.37      0.44      1118\n",
      "  politicans       0.68      0.73      0.70      1201\n",
      "\n",
      "   micro avg       0.52      0.52      0.52      4712\n",
      "   macro avg       0.52      0.51      0.51      4712\n",
      "weighted avg       0.52      0.52      0.51      4712\n",
      "\n"
     ]
    }
   ],
   "source": [
    "print(sk_mt.classification_report(lb.inverse_transform(y_test), y_pred))"
   ]
  }
 ],
 "metadata": {
  "kernelspec": {
   "display_name": "Python 3",
   "language": "python",
   "name": "python3"
  },
  "language_info": {
   "codemirror_mode": {
    "name": "ipython",
    "version": 3
   },
   "file_extension": ".py",
   "mimetype": "text/x-python",
   "name": "python",
   "nbconvert_exporter": "python",
   "pygments_lexer": "ipython3",
   "version": "3.6.6"
  }
 },
 "nbformat": 4,
 "nbformat_minor": 2
}
